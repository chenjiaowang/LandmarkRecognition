{
 "cells": [
  {
   "cell_type": "code",
   "execution_count": 1,
   "metadata": {},
   "outputs": [
    {
     "name": "stdout",
     "output_type": "stream",
     "text": [
      "Keras version: 2.2.4-tf\n",
      "[name: \"/device:CPU:0\"\n",
      "device_type: \"CPU\"\n",
      "memory_limit: 268435456\n",
      "locality {\n",
      "}\n",
      "incarnation: 12909259264976866922\n",
      ", name: \"/device:XLA_CPU:0\"\n",
      "device_type: \"XLA_CPU\"\n",
      "memory_limit: 17179869184\n",
      "locality {\n",
      "}\n",
      "incarnation: 1881912553343854644\n",
      "physical_device_desc: \"device: XLA_CPU device\"\n",
      ", name: \"/device:XLA_GPU:0\"\n",
      "device_type: \"XLA_GPU\"\n",
      "memory_limit: 17179869184\n",
      "locality {\n",
      "}\n",
      "incarnation: 3078765620878171630\n",
      "physical_device_desc: \"device: XLA_GPU device\"\n",
      ", name: \"/device:GPU:0\"\n",
      "device_type: \"GPU\"\n",
      "memory_limit: 11326753997\n",
      "locality {\n",
      "  bus_id: 1\n",
      "  links {\n",
      "  }\n",
      "}\n",
      "incarnation: 4319160135981977375\n",
      "physical_device_desc: \"device: 0, name: Tesla K80, pci bus id: 0000:00:04.0, compute capability: 3.7\"\n",
      "]\n"
     ]
    }
   ],
   "source": [
    "import numpy as np \n",
    "import pandas as pd \n",
    "import sys, requests, shutil, os\n",
    "import numpy as np\n",
    "import matplotlib.pyplot as plt\n",
    "import seaborn as sns\n",
    "%matplotlib inline\n",
    "from matplotlib.pyplot import subplots\n",
    "\n",
    "import glob\n",
    "import warnings\n",
    "\n",
    "import cv2\n",
    "\n",
    "import tensorflow.keras as keras\n",
    "from tensorflow.keras import backend as K\n",
    "from tensorflow.keras import Model, Sequential\n",
    "from tensorflow.keras.layers import Dense, Dropout, Flatten, Input, LeakyReLU\n",
    "from tensorflow.keras.layers import BatchNormalization, Activation, Conv2D\n",
    "from tensorflow.keras.layers import GlobalAveragePooling2D, Lambda\n",
    "from tensorflow.keras.optimizers import Adam, RMSprop\n",
    "\n",
    "from tensorflow.keras.applications.xception import Xception\n",
    "from tensorflow.keras.applications.xception import preprocess_input\n",
    "from tensorflow.keras.preprocessing.image import ImageDataGenerator \n",
    "from tensorflow.keras.utils import to_categorical\n",
    "from tensorflow.keras.callbacks import ModelCheckpoint\n",
    "\n",
    "from sklearn.preprocessing import LabelEncoder, OneHotEncoder\n",
    "from sklearn.metrics import accuracy_score\n",
    "\n",
    "import tensorflow as tf\n",
    "#sess = tf.Session(config=tf.ConfigProto(log_device_placement=True))\n",
    "\n",
    "print('Keras version:', keras.__version__)\n",
    "from tensorflow.python.client import device_lib\n",
    "print(device_lib.list_local_devices())\n",
    "warnings.simplefilter('default')"
   ]
  },
  {
   "cell_type": "markdown",
   "metadata": {},
   "source": [
    "script to prep and save meta training data"
   ]
  },
  {
   "cell_type": "code",
   "execution_count": 2,
   "metadata": {},
   "outputs": [],
   "source": [
    "mini_dataset_flag = False # set =True for debugging purpose\n",
    "batch_size = 48\n",
    "batch_size_predict = 128\n",
    "input_shape = (224, 224)\n",
    "top_model_weights_path = \"top-Xception-model-weights.hdf5\"\n",
    "if mini_dataset_flag: top_model_weights_path = \"mini-\" + top_model_weights_path\n",
    "save_info_flag = True\n",
    "exclude_rare_labels = True"
   ]
  },
  {
   "cell_type": "code",
   "execution_count": 3,
   "metadata": {},
   "outputs": [
    {
     "name": "stdout",
     "output_type": "stream",
     "text": [
      "203094\n"
     ]
    }
   ],
   "source": [
    "if mini_dataset_flag:\n",
    "    #n_cat = 31\n",
    "    data_path = './mini-datasets/'\n",
    "    data = pd.DataFrame({'id': [], 'url': [], 'landmark_id': []})\n",
    "    for filename in os.listdir(data_path):\n",
    "        if filename.endswith(\".jpg\") or filename.endswith(\".JPG\"):\n",
    "            data = data.append({'id': filename[:-4], 'url': 'fake_url', 'landmark_id': np.random.randint(low=0, high=231)}, ignore_index=True)\n",
    "    print(\" # of records inserted: \" + str(len(data)))\n",
    "    data = data.set_index('id')    \n",
    "else:     \n",
    "    data_path = './datasets/train/'\n",
    "    data=pd.read_csv('train.csv', index_col='id')\n",
    "\n",
    "n_cat = data['landmark_id'].nunique()\n",
    "print(n_cat)"
   ]
  },
  {
   "cell_type": "code",
   "execution_count": 4,
   "metadata": {},
   "outputs": [
    {
     "data": {
      "text/html": [
       "<div>\n",
       "<style scoped>\n",
       "    .dataframe tbody tr th:only-of-type {\n",
       "        vertical-align: middle;\n",
       "    }\n",
       "\n",
       "    .dataframe tbody tr th {\n",
       "        vertical-align: top;\n",
       "    }\n",
       "\n",
       "    .dataframe thead th {\n",
       "        text-align: right;\n",
       "    }\n",
       "</style>\n",
       "<table border=\"1\" class=\"dataframe\">\n",
       "  <thead>\n",
       "    <tr style=\"text-align: right;\">\n",
       "      <th></th>\n",
       "      <th>url</th>\n",
       "      <th>landmark_id</th>\n",
       "    </tr>\n",
       "    <tr>\n",
       "      <th>id</th>\n",
       "      <th></th>\n",
       "      <th></th>\n",
       "    </tr>\n",
       "  </thead>\n",
       "  <tbody>\n",
       "    <tr>\n",
       "      <th>6e158a47eb2ca3f6</th>\n",
       "      <td>https://upload.wikimedia.org/wikipedia/commons...</td>\n",
       "      <td>142820</td>\n",
       "    </tr>\n",
       "    <tr>\n",
       "      <th>202cd79556f30760</th>\n",
       "      <td>http://upload.wikimedia.org/wikipedia/commons/...</td>\n",
       "      <td>104169</td>\n",
       "    </tr>\n",
       "    <tr>\n",
       "      <th>3ad87684c99c06e1</th>\n",
       "      <td>http://upload.wikimedia.org/wikipedia/commons/...</td>\n",
       "      <td>37914</td>\n",
       "    </tr>\n",
       "    <tr>\n",
       "      <th>e7f70e9c61e66af3</th>\n",
       "      <td>https://upload.wikimedia.org/wikipedia/commons...</td>\n",
       "      <td>102140</td>\n",
       "    </tr>\n",
       "    <tr>\n",
       "      <th>4072182eddd0100e</th>\n",
       "      <td>https://upload.wikimedia.org/wikipedia/commons...</td>\n",
       "      <td>2474</td>\n",
       "    </tr>\n",
       "  </tbody>\n",
       "</table>\n",
       "</div>"
      ],
      "text/plain": [
       "                                                                url  \\\n",
       "id                                                                    \n",
       "6e158a47eb2ca3f6  https://upload.wikimedia.org/wikipedia/commons...   \n",
       "202cd79556f30760  http://upload.wikimedia.org/wikipedia/commons/...   \n",
       "3ad87684c99c06e1  http://upload.wikimedia.org/wikipedia/commons/...   \n",
       "e7f70e9c61e66af3  https://upload.wikimedia.org/wikipedia/commons...   \n",
       "4072182eddd0100e  https://upload.wikimedia.org/wikipedia/commons...   \n",
       "\n",
       "                  landmark_id  \n",
       "id                             \n",
       "6e158a47eb2ca3f6       142820  \n",
       "202cd79556f30760       104169  \n",
       "3ad87684c99c06e1        37914  \n",
       "e7f70e9c61e66af3       102140  \n",
       "4072182eddd0100e         2474  "
      ]
     },
     "execution_count": 4,
     "metadata": {},
     "output_type": "execute_result"
    }
   ],
   "source": [
    "data.head()"
   ]
  },
  {
   "cell_type": "code",
   "execution_count": 5,
   "metadata": {},
   "outputs": [
    {
     "name": "stdout",
     "output_type": "stream",
     "text": [
      "rare labels excluded\n",
      "138982--excluded\n",
      "6401\n"
     ]
    }
   ],
   "source": [
    "data_filtered = data.groupby('landmark_id').filter(lambda x : len(x)>100)\n",
    "print('rare labels excluded')\n",
    "\n",
    "data_filtered = data_filtered[data_filtered.landmark_id != 138982]\n",
    "print('138982--excluded')\n",
    "\n",
    "n_cat = data_filtered['landmark_id'].nunique()\n",
    "print(n_cat)"
   ]
  },
  {
   "cell_type": "code",
   "execution_count": 6,
   "metadata": {},
   "outputs": [
    {
     "name": "stdout",
     "output_type": "stream",
     "text": [
      "6401\n"
     ]
    }
   ],
   "source": [
    "def sample(df):\n",
    "    return df.sample(n=min(len(df), 500), random_state=1)\n",
    "data_filtered = data_filtered.groupby('landmark_id', group_keys=False).apply(sample)\n",
    "n_cat = data_filtered['landmark_id'].nunique()\n",
    "print(n_cat)"
   ]
  },
  {
   "cell_type": "code",
   "execution_count": 7,
   "metadata": {},
   "outputs": [
    {
     "name": "stdout",
     "output_type": "stream",
     "text": [
      "dev set records: # 233026\n",
      "train set records: # 932274\n"
     ]
    }
   ],
   "source": [
    "def sample(df):\n",
    "    return df.sample(frac=0.2, random_state=1)\n",
    "dev_set = data_filtered.groupby('landmark_id', group_keys=False).apply(sample)\n",
    "train_set = data_filtered.drop(dev_set.index)\n",
    "\n",
    "print(\"dev set records: # \" + str(len(dev_set)))\n",
    "print(\"train set records: # \" + str(len(train_set)))"
   ]
  },
  {
   "cell_type": "code",
   "execution_count": 8,
   "metadata": {},
   "outputs": [
    {
     "data": {
      "text/html": [
       "<div>\n",
       "<style scoped>\n",
       "    .dataframe tbody tr th:only-of-type {\n",
       "        vertical-align: middle;\n",
       "    }\n",
       "\n",
       "    .dataframe tbody tr th {\n",
       "        vertical-align: top;\n",
       "    }\n",
       "\n",
       "    .dataframe thead th {\n",
       "        text-align: right;\n",
       "    }\n",
       "</style>\n",
       "<table border=\"1\" class=\"dataframe\">\n",
       "  <thead>\n",
       "    <tr style=\"text-align: right;\">\n",
       "      <th></th>\n",
       "      <th>url</th>\n",
       "      <th>landmark_id</th>\n",
       "    </tr>\n",
       "    <tr>\n",
       "      <th>id</th>\n",
       "      <th></th>\n",
       "      <th></th>\n",
       "    </tr>\n",
       "  </thead>\n",
       "  <tbody>\n",
       "    <tr>\n",
       "      <th>49567a7236b170ba</th>\n",
       "      <td>https://upload.wikimedia.org/wikipedia/commons...</td>\n",
       "      <td>27</td>\n",
       "    </tr>\n",
       "    <tr>\n",
       "      <th>350c35dd0e716f5d</th>\n",
       "      <td>https://upload.wikimedia.org/wikipedia/commons...</td>\n",
       "      <td>27</td>\n",
       "    </tr>\n",
       "    <tr>\n",
       "      <th>c74313b74dd3195d</th>\n",
       "      <td>https://upload.wikimedia.org/wikipedia/commons...</td>\n",
       "      <td>27</td>\n",
       "    </tr>\n",
       "    <tr>\n",
       "      <th>8323df4b0689d343</th>\n",
       "      <td>https://upload.wikimedia.org/wikipedia/commons...</td>\n",
       "      <td>27</td>\n",
       "    </tr>\n",
       "    <tr>\n",
       "      <th>5ffdeed07f56f8aa</th>\n",
       "      <td>https://upload.wikimedia.org/wikipedia/commons...</td>\n",
       "      <td>27</td>\n",
       "    </tr>\n",
       "  </tbody>\n",
       "</table>\n",
       "</div>"
      ],
      "text/plain": [
       "                                                                url  \\\n",
       "id                                                                    \n",
       "49567a7236b170ba  https://upload.wikimedia.org/wikipedia/commons...   \n",
       "350c35dd0e716f5d  https://upload.wikimedia.org/wikipedia/commons...   \n",
       "c74313b74dd3195d  https://upload.wikimedia.org/wikipedia/commons...   \n",
       "8323df4b0689d343  https://upload.wikimedia.org/wikipedia/commons...   \n",
       "5ffdeed07f56f8aa  https://upload.wikimedia.org/wikipedia/commons...   \n",
       "\n",
       "                  landmark_id  \n",
       "id                             \n",
       "49567a7236b170ba           27  \n",
       "350c35dd0e716f5d           27  \n",
       "c74313b74dd3195d           27  \n",
       "8323df4b0689d343           27  \n",
       "5ffdeed07f56f8aa           27  "
      ]
     },
     "execution_count": 8,
     "metadata": {},
     "output_type": "execute_result"
    }
   ],
   "source": [
    "train_set.head()"
   ]
  },
  {
   "cell_type": "code",
   "execution_count": 9,
   "metadata": {},
   "outputs": [],
   "source": [
    "train_info = train_set.copy()\n",
    "train_info['filename'] = data_path + train_info.index + '.jpg'\n",
    "dev_info = dev_set.copy()\n",
    "dev_info['filename'] = data_path + dev_info.index + '.jpg'"
   ]
  },
  {
   "cell_type": "code",
   "execution_count": 10,
   "metadata": {},
   "outputs": [
    {
     "name": "stdout",
     "output_type": "stream",
     "text": [
      "# of records modified: 670\n"
     ]
    }
   ],
   "source": [
    "count_tmp=0\n",
    "for index, row in train_info.iterrows():\n",
    "    f = row['filename']\n",
    "    if os.path.isfile(f) == False:\n",
    "        count_tmp += 1\n",
    "        train_info.at[index,'filename'] = f[:-4] + '.JPG'\n",
    "print(\"# of records modified: \" + str(count_tmp))"
   ]
  },
  {
   "cell_type": "code",
   "execution_count": 11,
   "metadata": {},
   "outputs": [
    {
     "name": "stdout",
     "output_type": "stream",
     "text": [
      "# of records modified: 175\n"
     ]
    }
   ],
   "source": [
    "count_tmp=0\n",
    "for index, row in dev_info.iterrows():\n",
    "    f = row['filename']\n",
    "    if os.path.isfile(f) == False:\n",
    "        count_tmp += 1\n",
    "        dev_info.at[index,'filename'] = f[:-4] + '.JPG'\n",
    "print(\"# of records modified: \" + str(count_tmp))"
   ]
  },
  {
   "cell_type": "code",
   "execution_count": 12,
   "metadata": {},
   "outputs": [
    {
     "name": "stdout",
     "output_type": "stream",
     "text": [
      "./datasets/train/0182a00fb45aef80.jpg\n"
     ]
    },
    {
     "data": {
      "text/plain": [
       "(144, 256, 3)"
      ]
     },
     "execution_count": 12,
     "metadata": {},
     "output_type": "execute_result"
    },
    {
     "data": {
      "image/png": "[encoded data removed]",
      "text/plain": [
       "<Figure size 432x288 with 1 Axes>"
      ]
     },
     "metadata": {
      "needs_background": "light"
     },
     "output_type": "display_data"
    }
   ],
   "source": [
    "pick = np.random.choice(train_info['filename'])\n",
    "print(pick)\n",
    "testimg = cv2.cvtColor(cv2.imread(pick), cv2.COLOR_BGR2RGB)\n",
    "plt.imshow(testimg)\n",
    "testimg.shape"
   ]
  },
  {
   "cell_type": "code",
   "execution_count": 13,
   "metadata": {},
   "outputs": [
    {
     "name": "stderr",
     "output_type": "stream",
     "text": [
      "/opt/anaconda3/lib/python3.7/site-packages/sklearn/preprocessing/_encoders.py:331: DeprecationWarning: Passing 'n_values' is deprecated in version 0.20 and will be removed in 0.22. You can use the 'categories' keyword instead. 'n_values=n' corresponds to 'categories=[range(n)]'.\n",
      "  warnings.warn(msg, DeprecationWarning)\n"
     ]
    }
   ],
   "source": [
    "label_encoder = LabelEncoder()\n",
    "one_hot_encoder = OneHotEncoder(sparse=True, n_values=n_cat)\n",
    "\n",
    "train_info['label'] = label_encoder.fit_transform(train_info['landmark_id'].values)\n",
    "train_info['one_hot'] = one_hot_encoder.fit_transform(\n",
    "                   train_info['label'].values.reshape(-1, 1))"
   ]
  },
  {
   "cell_type": "code",
   "execution_count": 14,
   "metadata": {},
   "outputs": [
    {
     "data": {
      "text/html": [
       "<div>\n",
       "<style scoped>\n",
       "    .dataframe tbody tr th:only-of-type {\n",
       "        vertical-align: middle;\n",
       "    }\n",
       "\n",
       "    .dataframe tbody tr th {\n",
       "        vertical-align: top;\n",
       "    }\n",
       "\n",
       "    .dataframe thead th {\n",
       "        text-align: right;\n",
       "    }\n",
       "</style>\n",
       "<table border=\"1\" class=\"dataframe\">\n",
       "  <thead>\n",
       "    <tr style=\"text-align: right;\">\n",
       "      <th></th>\n",
       "      <th>url</th>\n",
       "      <th>landmark_id</th>\n",
       "      <th>filename</th>\n",
       "      <th>label</th>\n",
       "      <th>one_hot</th>\n",
       "    </tr>\n",
       "    <tr>\n",
       "      <th>id</th>\n",
       "      <th></th>\n",
       "      <th></th>\n",
       "      <th></th>\n",
       "      <th></th>\n",
       "      <th></th>\n",
       "    </tr>\n",
       "  </thead>\n",
       "  <tbody>\n",
       "    <tr>\n",
       "      <th>49567a7236b170ba</th>\n",
       "      <td>https://upload.wikimedia.org/wikipedia/commons...</td>\n",
       "      <td>27</td>\n",
       "      <td>./datasets/train/49567a7236b170ba.jpg</td>\n",
       "      <td>0</td>\n",
       "      <td>(0, 0)\\t1.0\\n  (1, 0)\\t1.0\\n  (2, 0)\\t1.0\\n ...</td>\n",
       "    </tr>\n",
       "    <tr>\n",
       "      <th>350c35dd0e716f5d</th>\n",
       "      <td>https://upload.wikimedia.org/wikipedia/commons...</td>\n",
       "      <td>27</td>\n",
       "      <td>./datasets/train/350c35dd0e716f5d.jpg</td>\n",
       "      <td>0</td>\n",
       "      <td>(0, 0)\\t1.0\\n  (1, 0)\\t1.0\\n  (2, 0)\\t1.0\\n ...</td>\n",
       "    </tr>\n",
       "    <tr>\n",
       "      <th>c74313b74dd3195d</th>\n",
       "      <td>https://upload.wikimedia.org/wikipedia/commons...</td>\n",
       "      <td>27</td>\n",
       "      <td>./datasets/train/c74313b74dd3195d.jpg</td>\n",
       "      <td>0</td>\n",
       "      <td>(0, 0)\\t1.0\\n  (1, 0)\\t1.0\\n  (2, 0)\\t1.0\\n ...</td>\n",
       "    </tr>\n",
       "    <tr>\n",
       "      <th>8323df4b0689d343</th>\n",
       "      <td>https://upload.wikimedia.org/wikipedia/commons...</td>\n",
       "      <td>27</td>\n",
       "      <td>./datasets/train/8323df4b0689d343.jpg</td>\n",
       "      <td>0</td>\n",
       "      <td>(0, 0)\\t1.0\\n  (1, 0)\\t1.0\\n  (2, 0)\\t1.0\\n ...</td>\n",
       "    </tr>\n",
       "    <tr>\n",
       "      <th>5ffdeed07f56f8aa</th>\n",
       "      <td>https://upload.wikimedia.org/wikipedia/commons...</td>\n",
       "      <td>27</td>\n",
       "      <td>./datasets/train/5ffdeed07f56f8aa.jpg</td>\n",
       "      <td>0</td>\n",
       "      <td>(0, 0)\\t1.0\\n  (1, 0)\\t1.0\\n  (2, 0)\\t1.0\\n ...</td>\n",
       "    </tr>\n",
       "    <tr>\n",
       "      <th>5658c5326df0e455</th>\n",
       "      <td>https://upload.wikimedia.org/wikipedia/commons...</td>\n",
       "      <td>27</td>\n",
       "      <td>./datasets/train/5658c5326df0e455.jpg</td>\n",
       "      <td>0</td>\n",
       "      <td>(0, 0)\\t1.0\\n  (1, 0)\\t1.0\\n  (2, 0)\\t1.0\\n ...</td>\n",
       "    </tr>\n",
       "    <tr>\n",
       "      <th>1b2be7599942441e</th>\n",
       "      <td>https://upload.wikimedia.org/wikipedia/commons...</td>\n",
       "      <td>27</td>\n",
       "      <td>./datasets/train/1b2be7599942441e.jpg</td>\n",
       "      <td>0</td>\n",
       "      <td>(0, 0)\\t1.0\\n  (1, 0)\\t1.0\\n  (2, 0)\\t1.0\\n ...</td>\n",
       "    </tr>\n",
       "    <tr>\n",
       "      <th>7ad8d5c2dd274f51</th>\n",
       "      <td>https://upload.wikimedia.org/wikipedia/commons...</td>\n",
       "      <td>27</td>\n",
       "      <td>./datasets/train/7ad8d5c2dd274f51.jpg</td>\n",
       "      <td>0</td>\n",
       "      <td>(0, 0)\\t1.0\\n  (1, 0)\\t1.0\\n  (2, 0)\\t1.0\\n ...</td>\n",
       "    </tr>\n",
       "    <tr>\n",
       "      <th>f6b0116aec0acf4b</th>\n",
       "      <td>https://upload.wikimedia.org/wikipedia/commons...</td>\n",
       "      <td>27</td>\n",
       "      <td>./datasets/train/f6b0116aec0acf4b.jpg</td>\n",
       "      <td>0</td>\n",
       "      <td>(0, 0)\\t1.0\\n  (1, 0)\\t1.0\\n  (2, 0)\\t1.0\\n ...</td>\n",
       "    </tr>\n",
       "    <tr>\n",
       "      <th>b456c9797ddf30c8</th>\n",
       "      <td>https://upload.wikimedia.org/wikipedia/commons...</td>\n",
       "      <td>27</td>\n",
       "      <td>./datasets/train/b456c9797ddf30c8.jpg</td>\n",
       "      <td>0</td>\n",
       "      <td>(0, 0)\\t1.0\\n  (1, 0)\\t1.0\\n  (2, 0)\\t1.0\\n ...</td>\n",
       "    </tr>\n",
       "  </tbody>\n",
       "</table>\n",
       "</div>"
      ],
      "text/plain": [
       "                                                                url  \\\n",
       "id                                                                    \n",
       "49567a7236b170ba  https://upload.wikimedia.org/wikipedia/commons...   \n",
       "350c35dd0e716f5d  https://upload.wikimedia.org/wikipedia/commons...   \n",
       "c74313b74dd3195d  https://upload.wikimedia.org/wikipedia/commons...   \n",
       "8323df4b0689d343  https://upload.wikimedia.org/wikipedia/commons...   \n",
       "5ffdeed07f56f8aa  https://upload.wikimedia.org/wikipedia/commons...   \n",
       "5658c5326df0e455  https://upload.wikimedia.org/wikipedia/commons...   \n",
       "1b2be7599942441e  https://upload.wikimedia.org/wikipedia/commons...   \n",
       "7ad8d5c2dd274f51  https://upload.wikimedia.org/wikipedia/commons...   \n",
       "f6b0116aec0acf4b  https://upload.wikimedia.org/wikipedia/commons...   \n",
       "b456c9797ddf30c8  https://upload.wikimedia.org/wikipedia/commons...   \n",
       "\n",
       "                  landmark_id                               filename  label  \\\n",
       "id                                                                            \n",
       "49567a7236b170ba           27  ./datasets/train/49567a7236b170ba.jpg      0   \n",
       "350c35dd0e716f5d           27  ./datasets/train/350c35dd0e716f5d.jpg      0   \n",
       "c74313b74dd3195d           27  ./datasets/train/c74313b74dd3195d.jpg      0   \n",
       "8323df4b0689d343           27  ./datasets/train/8323df4b0689d343.jpg      0   \n",
       "5ffdeed07f56f8aa           27  ./datasets/train/5ffdeed07f56f8aa.jpg      0   \n",
       "5658c5326df0e455           27  ./datasets/train/5658c5326df0e455.jpg      0   \n",
       "1b2be7599942441e           27  ./datasets/train/1b2be7599942441e.jpg      0   \n",
       "7ad8d5c2dd274f51           27  ./datasets/train/7ad8d5c2dd274f51.jpg      0   \n",
       "f6b0116aec0acf4b           27  ./datasets/train/f6b0116aec0acf4b.jpg      0   \n",
       "b456c9797ddf30c8           27  ./datasets/train/b456c9797ddf30c8.jpg      0   \n",
       "\n",
       "                                                            one_hot  \n",
       "id                                                                   \n",
       "49567a7236b170ba    (0, 0)\\t1.0\\n  (1, 0)\\t1.0\\n  (2, 0)\\t1.0\\n ...  \n",
       "350c35dd0e716f5d    (0, 0)\\t1.0\\n  (1, 0)\\t1.0\\n  (2, 0)\\t1.0\\n ...  \n",
       "c74313b74dd3195d    (0, 0)\\t1.0\\n  (1, 0)\\t1.0\\n  (2, 0)\\t1.0\\n ...  \n",
       "8323df4b0689d343    (0, 0)\\t1.0\\n  (1, 0)\\t1.0\\n  (2, 0)\\t1.0\\n ...  \n",
       "5ffdeed07f56f8aa    (0, 0)\\t1.0\\n  (1, 0)\\t1.0\\n  (2, 0)\\t1.0\\n ...  \n",
       "5658c5326df0e455    (0, 0)\\t1.0\\n  (1, 0)\\t1.0\\n  (2, 0)\\t1.0\\n ...  \n",
       "1b2be7599942441e    (0, 0)\\t1.0\\n  (1, 0)\\t1.0\\n  (2, 0)\\t1.0\\n ...  \n",
       "7ad8d5c2dd274f51    (0, 0)\\t1.0\\n  (1, 0)\\t1.0\\n  (2, 0)\\t1.0\\n ...  \n",
       "f6b0116aec0acf4b    (0, 0)\\t1.0\\n  (1, 0)\\t1.0\\n  (2, 0)\\t1.0\\n ...  \n",
       "b456c9797ddf30c8    (0, 0)\\t1.0\\n  (1, 0)\\t1.0\\n  (2, 0)\\t1.0\\n ...  "
      ]
     },
     "execution_count": 14,
     "metadata": {},
     "output_type": "execute_result"
    }
   ],
   "source": [
    "train_info.head(10)"
   ]
  },
  {
   "cell_type": "code",
   "execution_count": 15,
   "metadata": {},
   "outputs": [
    {
     "name": "stderr",
     "output_type": "stream",
     "text": [
      "/opt/anaconda3/lib/python3.7/importlib/_bootstrap.py:219: RuntimeWarning: numpy.ufunc size changed, may indicate binary incompatibility. Expected 192 from C header, got 216 from PyObject\n",
      "  return f(*args, **kwds)\n",
      "/opt/anaconda3/lib/python3.7/site-packages/IPython/core/interactiveshell.py:3296: PerformanceWarning: \n",
      "your performance may suffer as PyTables will pickle object types that it cannot\n",
      "map directly to c-types [inferred_type->mixed,key->block1_values] [items->['url', 'filename', 'one_hot']]\n",
      "\n",
      "  exec(code_obj, self.user_global_ns, self.user_ns)\n"
     ]
    },
    {
     "name": "stdout",
     "output_type": "stream",
     "text": [
      "Done -- meta data saved to disk\n"
     ]
    }
   ],
   "source": [
    "if save_info_flag and not(mini_dataset_flag): \n",
    "    if exclude_rare_labels:\n",
    "        ss = 'D0527-ex-rare60-reduce-top-labels-'\n",
    "    else:\n",
    "        ss = 'D0527-all-labels-'\n",
    "    data_store = pd.HDFStore(ss+'processed_data.h5')\n",
    "    data_store['train_info'] = train_info\n",
    "    data_store['dev_info'] = dev_info\n",
    "    data_store.close()\n",
    "    print('Done -- meta data saved to disk')"
   ]
  },
  {
   "cell_type": "code",
   "execution_count": null,
   "metadata": {},
   "outputs": [],
   "source": []
  }
 ],
 "metadata": {
  "kernelspec": {
   "display_name": "Python 3",
   "language": "python",
   "name": "python3"
  },
  "language_info": {
   "codemirror_mode": {
    "name": "ipython",
    "version": 3
   },
   "file_extension": ".py",
   "mimetype": "text/x-python",
   "name": "python",
   "nbconvert_exporter": "python",
   "pygments_lexer": "ipython3",
   "version": "3.7.3"
  }
 },
 "nbformat": 4,
 "nbformat_minor": 2
}
