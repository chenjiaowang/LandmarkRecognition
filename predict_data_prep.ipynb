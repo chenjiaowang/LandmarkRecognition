{
 "cells": [
  {
   "cell_type": "code",
   "execution_count": 1,
   "metadata": {},
   "outputs": [],
   "source": [
    "import numpy as np \n",
    "import pandas as pd \n",
    "import sys, requests, shutil, os\n",
    "import numpy as np\n",
    "import matplotlib.pyplot as plt\n",
    "import seaborn as sns\n",
    "%matplotlib inline\n",
    "from matplotlib.pyplot import subplots\n",
    "\n",
    "import glob\n",
    "import warnings\n",
    "\n",
    "import cv2"
   ]
  },
  {
   "cell_type": "code",
   "execution_count": 5,
   "metadata": {},
   "outputs": [
    {
     "data": {
      "text/html": [
       "<div>\n",
       "<style scoped>\n",
       "    .dataframe tbody tr th:only-of-type {\n",
       "        vertical-align: middle;\n",
       "    }\n",
       "\n",
       "    .dataframe tbody tr th {\n",
       "        vertical-align: top;\n",
       "    }\n",
       "\n",
       "    .dataframe thead th {\n",
       "        text-align: right;\n",
       "    }\n",
       "</style>\n",
       "<table border=\"1\" class=\"dataframe\">\n",
       "  <thead>\n",
       "    <tr style=\"text-align: right;\">\n",
       "      <th></th>\n",
       "    </tr>\n",
       "    <tr>\n",
       "      <th>id</th>\n",
       "    </tr>\n",
       "  </thead>\n",
       "  <tbody>\n",
       "    <tr>\n",
       "      <th>00016575233bc956</th>\n",
       "    </tr>\n",
       "    <tr>\n",
       "      <th>0001aadbcd8cb923</th>\n",
       "    </tr>\n",
       "    <tr>\n",
       "      <th>0002c06b2440a5f9</th>\n",
       "    </tr>\n",
       "    <tr>\n",
       "      <th>0002eb1ee5a5a6b2</th>\n",
       "    </tr>\n",
       "    <tr>\n",
       "      <th>000594dad986513e</th>\n",
       "    </tr>\n",
       "  </tbody>\n",
       "</table>\n",
       "</div>"
      ],
      "text/plain": [
       "Empty DataFrame\n",
       "Columns: []\n",
       "Index: [00016575233bc956, 0001aadbcd8cb923, 0002c06b2440a5f9, 0002eb1ee5a5a6b2, 000594dad986513e]"
      ]
     },
     "execution_count": 5,
     "metadata": {},
     "output_type": "execute_result"
    }
   ],
   "source": [
    "\n",
    "test_data=pd.read_csv('test.csv', index_col='id')\n",
    "test_data.head()"
   ]
  },
  {
   "cell_type": "code",
   "execution_count": 17,
   "metadata": {},
   "outputs": [
    {
     "data": {
      "text/html": [
       "<div>\n",
       "<style scoped>\n",
       "    .dataframe tbody tr th:only-of-type {\n",
       "        vertical-align: middle;\n",
       "    }\n",
       "\n",
       "    .dataframe tbody tr th {\n",
       "        vertical-align: top;\n",
       "    }\n",
       "\n",
       "    .dataframe thead th {\n",
       "        text-align: right;\n",
       "    }\n",
       "</style>\n",
       "<table border=\"1\" class=\"dataframe\">\n",
       "  <thead>\n",
       "    <tr style=\"text-align: right;\">\n",
       "      <th></th>\n",
       "      <th>filename</th>\n",
       "    </tr>\n",
       "    <tr>\n",
       "      <th>id</th>\n",
       "      <th></th>\n",
       "    </tr>\n",
       "  </thead>\n",
       "  <tbody>\n",
       "    <tr>\n",
       "      <th>00016575233bc956</th>\n",
       "      <td></td>\n",
       "    </tr>\n",
       "    <tr>\n",
       "      <th>0001aadbcd8cb923</th>\n",
       "      <td></td>\n",
       "    </tr>\n",
       "    <tr>\n",
       "      <th>0002c06b2440a5f9</th>\n",
       "      <td></td>\n",
       "    </tr>\n",
       "    <tr>\n",
       "      <th>0002eb1ee5a5a6b2</th>\n",
       "      <td></td>\n",
       "    </tr>\n",
       "    <tr>\n",
       "      <th>000594dad986513e</th>\n",
       "      <td></td>\n",
       "    </tr>\n",
       "  </tbody>\n",
       "</table>\n",
       "</div>"
      ],
      "text/plain": [
       "                 filename\n",
       "id                       \n",
       "00016575233bc956         \n",
       "0001aadbcd8cb923         \n",
       "0002c06b2440a5f9         \n",
       "0002eb1ee5a5a6b2         \n",
       "000594dad986513e         "
      ]
     },
     "execution_count": 17,
     "metadata": {},
     "output_type": "execute_result"
    }
   ],
   "source": [
    "test_data_path = './test-datasets/test/'\n",
    "test_info =test_data.copy()\n",
    "test_info['filename'] = \"\"\n",
    "test_info.head()"
   ]
  },
  {
   "cell_type": "code",
   "execution_count": 18,
   "metadata": {},
   "outputs": [
    {
     "name": "stdout",
     "output_type": "stream",
     "text": [
      "# of records not found: 0\n"
     ]
    },
    {
     "data": {
      "text/html": [
       "<div>\n",
       "<style scoped>\n",
       "    .dataframe tbody tr th:only-of-type {\n",
       "        vertical-align: middle;\n",
       "    }\n",
       "\n",
       "    .dataframe tbody tr th {\n",
       "        vertical-align: top;\n",
       "    }\n",
       "\n",
       "    .dataframe thead th {\n",
       "        text-align: right;\n",
       "    }\n",
       "</style>\n",
       "<table border=\"1\" class=\"dataframe\">\n",
       "  <thead>\n",
       "    <tr style=\"text-align: right;\">\n",
       "      <th></th>\n",
       "      <th>filename</th>\n",
       "    </tr>\n",
       "    <tr>\n",
       "      <th>id</th>\n",
       "      <th></th>\n",
       "    </tr>\n",
       "  </thead>\n",
       "  <tbody>\n",
       "    <tr>\n",
       "      <th>00016575233bc956</th>\n",
       "      <td>./test-datasets/test/0/0/0/00016575233bc956.jpg</td>\n",
       "    </tr>\n",
       "    <tr>\n",
       "      <th>0001aadbcd8cb923</th>\n",
       "      <td>./test-datasets/test/0/0/0/0001aadbcd8cb923.jpg</td>\n",
       "    </tr>\n",
       "    <tr>\n",
       "      <th>0002c06b2440a5f9</th>\n",
       "      <td>./test-datasets/test/0/0/0/0002c06b2440a5f9.jpg</td>\n",
       "    </tr>\n",
       "    <tr>\n",
       "      <th>0002eb1ee5a5a6b2</th>\n",
       "      <td>./test-datasets/test/0/0/0/0002eb1ee5a5a6b2.jpg</td>\n",
       "    </tr>\n",
       "    <tr>\n",
       "      <th>000594dad986513e</th>\n",
       "      <td>./test-datasets/test/0/0/0/000594dad986513e.jpg</td>\n",
       "    </tr>\n",
       "  </tbody>\n",
       "</table>\n",
       "</div>"
      ],
      "text/plain": [
       "                                                         filename\n",
       "id                                                               \n",
       "00016575233bc956  ./test-datasets/test/0/0/0/00016575233bc956.jpg\n",
       "0001aadbcd8cb923  ./test-datasets/test/0/0/0/0001aadbcd8cb923.jpg\n",
       "0002c06b2440a5f9  ./test-datasets/test/0/0/0/0002c06b2440a5f9.jpg\n",
       "0002eb1ee5a5a6b2  ./test-datasets/test/0/0/0/0002eb1ee5a5a6b2.jpg\n",
       "000594dad986513e  ./test-datasets/test/0/0/0/000594dad986513e.jpg"
      ]
     },
     "execution_count": 18,
     "metadata": {},
     "output_type": "execute_result"
    }
   ],
   "source": [
    "count_tmp=0\n",
    "for index, row in test_info.iterrows():\n",
    "    f = test_data_path +index[0] +'/' +index[1] +'/'+index[2] +'/' + index + '.jpg'\n",
    "    if os.path.isfile(f) == False:\n",
    "        count_tmp += 1\n",
    "    else:\n",
    "        test_info.at[index,'filename'] = f\n",
    "print(\"# of records not found: \" + str(count_tmp))\n",
    "test_info.head()"
   ]
  },
  {
   "cell_type": "code",
   "execution_count": 19,
   "metadata": {},
   "outputs": [],
   "source": [
    "data_store = pd.HDFStore('processed_test_data.h5')\n",
    "data_store['test_info'] = test_info\n",
    "data_store.close()"
   ]
  },
  {
   "cell_type": "code",
   "execution_count": null,
   "metadata": {},
   "outputs": [],
   "source": []
  }
 ],
 "metadata": {
  "kernelspec": {
   "display_name": "Python 3",
   "language": "python",
   "name": "python3"
  },
  "language_info": {
   "codemirror_mode": {
    "name": "ipython",
    "version": 3
   },
   "file_extension": ".py",
   "mimetype": "text/x-python",
   "name": "python",
   "nbconvert_exporter": "python",
   "pygments_lexer": "ipython3",
   "version": "3.7.3"
  }
 },
 "nbformat": 4,
 "nbformat_minor": 2
}
