{
 "cells": [
  {
   "cell_type": "code",
   "execution_count": 1,
   "metadata": {
    "collapsed": false
   },
   "outputs": [
    {
     "name": "stdout",
     "output_type": "stream",
     "text": [
      "Keras version: 2.2.4-tf\n",
      "[name: \"/device:CPU:0\"\n",
      "device_type: \"CPU\"\n",
      "memory_limit: 268435456\n",
      "locality {\n",
      "}\n",
      "incarnation: 2778211489762222083\n",
      ", name: \"/device:XLA_CPU:0\"\n",
      "device_type: \"XLA_CPU\"\n",
      "memory_limit: 17179869184\n",
      "locality {\n",
      "}\n",
      "incarnation: 10328006303209751539\n",
      "physical_device_desc: \"device: XLA_CPU device\"\n",
      ", name: \"/device:XLA_GPU:0\"\n",
      "device_type: \"XLA_GPU\"\n",
      "memory_limit: 17179869184\n",
      "locality {\n",
      "}\n",
      "incarnation: 9464007490760427396\n",
      "physical_device_desc: \"device: XLA_GPU device\"\n",
      ", name: \"/device:GPU:0\"\n",
      "device_type: \"GPU\"\n",
      "memory_limit: 11326753997\n",
      "locality {\n",
      "  bus_id: 1\n",
      "  links {\n",
      "  }\n",
      "}\n",
      "incarnation: 9195567920091037959\n",
      "physical_device_desc: \"device: 0, name: Tesla K80, pci bus id: 0000:00:04.0, compute capability: 3.7\"\n",
      "]\n"
     ]
    }
   ],
   "source": [
    "import numpy as np \n",
    "import pandas as pd \n",
    "import sys, requests, shutil, os\n",
    "import numpy as np\n",
    "import matplotlib.pyplot as plt\n",
    "import seaborn as sns\n",
    "%matplotlib inline\n",
    "from matplotlib.pyplot import subplots\n",
    "\n",
    "import glob\n",
    "import warnings\n",
    "\n",
    "import cv2\n",
    "\n",
    "import tensorflow.keras as keras\n",
    "from tensorflow.keras import backend as K\n",
    "from tensorflow.keras import Model, Sequential\n",
    "from tensorflow.keras.layers import Dense, Dropout, Flatten, Input, LeakyReLU\n",
    "from tensorflow.keras.layers import BatchNormalization, Activation, Conv2D\n",
    "from tensorflow.keras.layers import GlobalAveragePooling2D, Lambda\n",
    "from tensorflow.keras.optimizers import Adam, RMSprop\n",
    "\n",
    "#from tensorflow.keras.applications.xception import Xception\n",
    "#from tensorflow.keras.applications.xception import preprocess_input\n",
    "from tensorflow.keras.preprocessing.image import ImageDataGenerator \n",
    "from tensorflow.keras.utils import to_categorical\n",
    "from tensorflow.keras.callbacks import ModelCheckpoint\n",
    "\n",
    "from sklearn.preprocessing import LabelEncoder, OneHotEncoder\n",
    "from sklearn.metrics import accuracy_score\n",
    "\n",
    "import tensorflow as tf\n",
    "#sess = tf.Session(config=tf.ConfigProto(log_device_placement=True))\n",
    "\n",
    "print('Keras version:', keras.__version__)\n",
    "from tensorflow.python.client import device_lib\n",
    "print(device_lib.list_local_devices())\n",
    "warnings.simplefilter('default')"
   ]
  },
  {
   "cell_type": "code",
   "execution_count": 2,
   "metadata": {
    "collapsed": true
   },
   "outputs": [],
   "source": [
    "#from tensorflow.keras.utils import multi_gpu_model"
   ]
  },
  {
   "cell_type": "code",
   "execution_count": 3,
   "metadata": {
    "collapsed": false
   },
   "outputs": [
    {
     "name": "stderr",
     "output_type": "stream",
     "text": [
      "Using TensorFlow backend.\n"
     ]
    }
   ],
   "source": [
    "from tensorflow.keras.applications.vgg16 import VGG16\n",
    "from keras.preprocessing import image\n",
    "from keras.applications.vgg16 import preprocess_input, decode_predictions"
   ]
  },
  {
   "cell_type": "markdown",
   "metadata": {},
   "source": [
    "### data prep"
   ]
  },
  {
   "cell_type": "code",
   "execution_count": 4,
   "metadata": {
    "collapsed": true
   },
   "outputs": [],
   "source": [
    "mini_dataset_flag = False # set =True for debugging purpose\n",
    "batch_size = 64\n",
    "batch_size_predict = 256\n",
    "input_shape = (150,150)\n",
    "top_model_weights_path = \"top-vgg16-model-weights.hdf5\"\n",
    "if mini_dataset_flag: top_model_weights_path = \"mini-\" + top_model_weights_path"
   ]
  },
  {
   "cell_type": "markdown",
   "metadata": {},
   "source": [
    "load\n",
    "1. n_cat\n",
    "2. data_path\n",
    "3. train_info\n",
    "4. dev_info"
   ]
  },
  {
   "cell_type": "code",
   "execution_count": 5,
   "metadata": {
    "collapsed": false
   },
   "outputs": [
    {
     "name": "stderr",
     "output_type": "stream",
     "text": [
      "/opt/anaconda3/lib/python3.7/importlib/_bootstrap.py:219: RuntimeWarning: numpy.ufunc size changed, may indicate binary incompatibility. Expected 192 from C header, got 216 from PyObject\n",
      "  return f(*args, **kwds)\n"
     ]
    }
   ],
   "source": [
    "n_cat = 6401\n",
    "data_path = './datasets/train/'\n",
    "\n",
    "h5_file_name = 'D0527-ex-rare60-reduce-top-labels-processed_data.h5'\n",
    "if mini_dataset_flag: h5_file_name = 'mini-' + h5_file_name\n",
    "data_load = pd.HDFStore(h5_file_name)\n",
    "train_info = data_load['train_info']\n",
    "dev_info = data_load['dev_info']\n",
    "data_load.close()"
   ]
  },
  {
   "cell_type": "code",
   "execution_count": 6,
   "metadata": {
    "collapsed": false
   },
   "outputs": [
    {
     "name": "stdout",
     "output_type": "stream",
     "text": [
      "932274\n"
     ]
    },
    {
     "data": {
      "text/html": [
       "<div>\n",
       "<style scoped>\n",
       "    .dataframe tbody tr th:only-of-type {\n",
       "        vertical-align: middle;\n",
       "    }\n",
       "\n",
       "    .dataframe tbody tr th {\n",
       "        vertical-align: top;\n",
       "    }\n",
       "\n",
       "    .dataframe thead th {\n",
       "        text-align: right;\n",
       "    }\n",
       "</style>\n",
       "<table border=\"1\" class=\"dataframe\">\n",
       "  <thead>\n",
       "    <tr style=\"text-align: right;\">\n",
       "      <th></th>\n",
       "      <th>url</th>\n",
       "      <th>landmark_id</th>\n",
       "      <th>filename</th>\n",
       "      <th>label</th>\n",
       "      <th>one_hot</th>\n",
       "    </tr>\n",
       "    <tr>\n",
       "      <th>id</th>\n",
       "      <th></th>\n",
       "      <th></th>\n",
       "      <th></th>\n",
       "      <th></th>\n",
       "      <th></th>\n",
       "    </tr>\n",
       "  </thead>\n",
       "  <tbody>\n",
       "    <tr>\n",
       "      <th>49567a7236b170ba</th>\n",
       "      <td>https://upload.wikimedia.org/wikipedia/commons...</td>\n",
       "      <td>27</td>\n",
       "      <td>./datasets/train/49567a7236b170ba.jpg</td>\n",
       "      <td>0</td>\n",
       "      <td>(0, 0)\\t1.0\\n  (1, 0)\\t1.0\\n  (2, 0)\\t1.0\\n ...</td>\n",
       "    </tr>\n",
       "    <tr>\n",
       "      <th>350c35dd0e716f5d</th>\n",
       "      <td>https://upload.wikimedia.org/wikipedia/commons...</td>\n",
       "      <td>27</td>\n",
       "      <td>./datasets/train/350c35dd0e716f5d.jpg</td>\n",
       "      <td>0</td>\n",
       "      <td>(0, 0)\\t1.0\\n  (1, 0)\\t1.0\\n  (2, 0)\\t1.0\\n ...</td>\n",
       "    </tr>\n",
       "    <tr>\n",
       "      <th>c74313b74dd3195d</th>\n",
       "      <td>https://upload.wikimedia.org/wikipedia/commons...</td>\n",
       "      <td>27</td>\n",
       "      <td>./datasets/train/c74313b74dd3195d.jpg</td>\n",
       "      <td>0</td>\n",
       "      <td>(0, 0)\\t1.0\\n  (1, 0)\\t1.0\\n  (2, 0)\\t1.0\\n ...</td>\n",
       "    </tr>\n",
       "    <tr>\n",
       "      <th>8323df4b0689d343</th>\n",
       "      <td>https://upload.wikimedia.org/wikipedia/commons...</td>\n",
       "      <td>27</td>\n",
       "      <td>./datasets/train/8323df4b0689d343.jpg</td>\n",
       "      <td>0</td>\n",
       "      <td>(0, 0)\\t1.0\\n  (1, 0)\\t1.0\\n  (2, 0)\\t1.0\\n ...</td>\n",
       "    </tr>\n",
       "    <tr>\n",
       "      <th>5ffdeed07f56f8aa</th>\n",
       "      <td>https://upload.wikimedia.org/wikipedia/commons...</td>\n",
       "      <td>27</td>\n",
       "      <td>./datasets/train/5ffdeed07f56f8aa.jpg</td>\n",
       "      <td>0</td>\n",
       "      <td>(0, 0)\\t1.0\\n  (1, 0)\\t1.0\\n  (2, 0)\\t1.0\\n ...</td>\n",
       "    </tr>\n",
       "  </tbody>\n",
       "</table>\n",
       "</div>"
      ],
      "text/plain": [
       "                                                                url  \\\n",
       "id                                                                    \n",
       "49567a7236b170ba  https://upload.wikimedia.org/wikipedia/commons...   \n",
       "350c35dd0e716f5d  https://upload.wikimedia.org/wikipedia/commons...   \n",
       "c74313b74dd3195d  https://upload.wikimedia.org/wikipedia/commons...   \n",
       "8323df4b0689d343  https://upload.wikimedia.org/wikipedia/commons...   \n",
       "5ffdeed07f56f8aa  https://upload.wikimedia.org/wikipedia/commons...   \n",
       "\n",
       "                  landmark_id                               filename  label  \\\n",
       "id                                                                            \n",
       "49567a7236b170ba           27  ./datasets/train/49567a7236b170ba.jpg      0   \n",
       "350c35dd0e716f5d           27  ./datasets/train/350c35dd0e716f5d.jpg      0   \n",
       "c74313b74dd3195d           27  ./datasets/train/c74313b74dd3195d.jpg      0   \n",
       "8323df4b0689d343           27  ./datasets/train/8323df4b0689d343.jpg      0   \n",
       "5ffdeed07f56f8aa           27  ./datasets/train/5ffdeed07f56f8aa.jpg      0   \n",
       "\n",
       "                                                            one_hot  \n",
       "id                                                                   \n",
       "49567a7236b170ba    (0, 0)\\t1.0\\n  (1, 0)\\t1.0\\n  (2, 0)\\t1.0\\n ...  \n",
       "350c35dd0e716f5d    (0, 0)\\t1.0\\n  (1, 0)\\t1.0\\n  (2, 0)\\t1.0\\n ...  \n",
       "c74313b74dd3195d    (0, 0)\\t1.0\\n  (1, 0)\\t1.0\\n  (2, 0)\\t1.0\\n ...  \n",
       "8323df4b0689d343    (0, 0)\\t1.0\\n  (1, 0)\\t1.0\\n  (2, 0)\\t1.0\\n ...  \n",
       "5ffdeed07f56f8aa    (0, 0)\\t1.0\\n  (1, 0)\\t1.0\\n  (2, 0)\\t1.0\\n ...  "
      ]
     },
     "execution_count": 6,
     "metadata": {},
     "output_type": "execute_result"
    }
   ],
   "source": [
    "print(len(train_info))\n",
    "train_info.head()"
   ]
  },
  {
   "cell_type": "code",
   "execution_count": 7,
   "metadata": {
    "collapsed": false
   },
   "outputs": [
    {
     "name": "stdout",
     "output_type": "stream",
     "text": [
      "233026\n"
     ]
    },
    {
     "data": {
      "text/html": [
       "<div>\n",
       "<style scoped>\n",
       "    .dataframe tbody tr th:only-of-type {\n",
       "        vertical-align: middle;\n",
       "    }\n",
       "\n",
       "    .dataframe tbody tr th {\n",
       "        vertical-align: top;\n",
       "    }\n",
       "\n",
       "    .dataframe thead th {\n",
       "        text-align: right;\n",
       "    }\n",
       "</style>\n",
       "<table border=\"1\" class=\"dataframe\">\n",
       "  <thead>\n",
       "    <tr style=\"text-align: right;\">\n",
       "      <th></th>\n",
       "      <th>url</th>\n",
       "      <th>landmark_id</th>\n",
       "      <th>filename</th>\n",
       "    </tr>\n",
       "    <tr>\n",
       "      <th>id</th>\n",
       "      <th></th>\n",
       "      <th></th>\n",
       "      <th></th>\n",
       "    </tr>\n",
       "  </thead>\n",
       "  <tbody>\n",
       "    <tr>\n",
       "      <th>ed7a897e2b7977ee</th>\n",
       "      <td>https://upload.wikimedia.org/wikipedia/commons...</td>\n",
       "      <td>27</td>\n",
       "      <td>./datasets/train/ed7a897e2b7977ee.jpg</td>\n",
       "    </tr>\n",
       "    <tr>\n",
       "      <th>70fa6dfd6ae8fa0a</th>\n",
       "      <td>https://upload.wikimedia.org/wikipedia/commons...</td>\n",
       "      <td>27</td>\n",
       "      <td>./datasets/train/70fa6dfd6ae8fa0a.jpg</td>\n",
       "    </tr>\n",
       "    <tr>\n",
       "      <th>083f4ecd174e5114</th>\n",
       "      <td>https://upload.wikimedia.org/wikipedia/commons...</td>\n",
       "      <td>27</td>\n",
       "      <td>./datasets/train/083f4ecd174e5114.jpg</td>\n",
       "    </tr>\n",
       "    <tr>\n",
       "      <th>1aced71eaac3a0bb</th>\n",
       "      <td>https://upload.wikimedia.org/wikipedia/commons...</td>\n",
       "      <td>27</td>\n",
       "      <td>./datasets/train/1aced71eaac3a0bb.jpg</td>\n",
       "    </tr>\n",
       "    <tr>\n",
       "      <th>bafe7a417b7bc113</th>\n",
       "      <td>https://upload.wikimedia.org/wikipedia/commons...</td>\n",
       "      <td>27</td>\n",
       "      <td>./datasets/train/bafe7a417b7bc113.jpg</td>\n",
       "    </tr>\n",
       "  </tbody>\n",
       "</table>\n",
       "</div>"
      ],
      "text/plain": [
       "                                                                url  \\\n",
       "id                                                                    \n",
       "ed7a897e2b7977ee  https://upload.wikimedia.org/wikipedia/commons...   \n",
       "70fa6dfd6ae8fa0a  https://upload.wikimedia.org/wikipedia/commons...   \n",
       "083f4ecd174e5114  https://upload.wikimedia.org/wikipedia/commons...   \n",
       "1aced71eaac3a0bb  https://upload.wikimedia.org/wikipedia/commons...   \n",
       "bafe7a417b7bc113  https://upload.wikimedia.org/wikipedia/commons...   \n",
       "\n",
       "                  landmark_id                               filename  \n",
       "id                                                                    \n",
       "ed7a897e2b7977ee           27  ./datasets/train/ed7a897e2b7977ee.jpg  \n",
       "70fa6dfd6ae8fa0a           27  ./datasets/train/70fa6dfd6ae8fa0a.jpg  \n",
       "083f4ecd174e5114           27  ./datasets/train/083f4ecd174e5114.jpg  \n",
       "1aced71eaac3a0bb           27  ./datasets/train/1aced71eaac3a0bb.jpg  \n",
       "bafe7a417b7bc113           27  ./datasets/train/bafe7a417b7bc113.jpg  "
      ]
     },
     "execution_count": 7,
     "metadata": {},
     "output_type": "execute_result"
    }
   ],
   "source": [
    "print(len(dev_info))\n",
    "dev_info.head()"
   ]
  },
  {
   "cell_type": "code",
   "execution_count": 8,
   "metadata": {
    "collapsed": false
   },
   "outputs": [
    {
     "name": "stderr",
     "output_type": "stream",
     "text": [
      "/opt/anaconda3/lib/python3.7/site-packages/sklearn/preprocessing/_encoders.py:331: DeprecationWarning: Passing 'n_values' is deprecated in version 0.20 and will be removed in 0.22. You can use the 'categories' keyword instead. 'n_values=n' corresponds to 'categories=[range(n)]'.\n",
      "  warnings.warn(msg, DeprecationWarning)\n"
     ]
    },
    {
     "data": {
      "text/plain": [
       "<932274x6401 sparse matrix of type '<class 'numpy.float64'>'\n",
       "\twith 932274 stored elements in Compressed Sparse Row format>"
      ]
     },
     "execution_count": 8,
     "metadata": {},
     "output_type": "execute_result"
    }
   ],
   "source": [
    "label_encoder = LabelEncoder()\n",
    "one_hot_encoder = OneHotEncoder(sparse=True, n_values=n_cat)\n",
    "label_encoder.fit_transform(train_info['landmark_id'].values)\n",
    "one_hot_encoder.fit_transform(train_info['label'].values.reshape(-1, 1))"
   ]
  },
  {
   "cell_type": "markdown",
   "metadata": {},
   "source": [
    "### ImageNet info"
   ]
  },
  {
   "cell_type": "code",
   "execution_count": 9,
   "metadata": {
    "collapsed": false
   },
   "outputs": [
    {
     "name": "stderr",
     "output_type": "stream",
     "text": [
      "/opt/anaconda3/lib/python3.7/site-packages/tensorflow/python/ops/nn_ops.py:60: DeprecationWarning: Using or importing the ABCs from 'collections' instead of from 'collections.abc' is deprecated, and in 3.8 it will stop working\n",
      "  elif not isinstance(value, collections.Sized):\n"
     ]
    }
   ],
   "source": [
    "model =VGG16(weights = 'imagenet', include_top = True)"
   ]
  },
  {
   "cell_type": "code",
   "execution_count": 10,
   "metadata": {
    "collapsed": false
   },
   "outputs": [
    {
     "name": "stderr",
     "output_type": "stream",
     "text": [
      "/opt/anaconda3/lib/python3.7/site-packages/keras/preprocessing/image.py:43: DeprecationWarning: inspect.getargspec() is deprecated since Python 3.0, use inspect.signature() or inspect.getfullargspec()\n",
      "  if 'dtype' in inspect.getargspec(image.img_to_array).args:\n"
     ]
    },
    {
     "name": "stdout",
     "output_type": "stream",
     "text": [
      "Predicted: [('n02825657', 'bell_cote', 0.24031775), ('n03697007', 'lumbermill', 0.082326174), ('n04523525', 'vault', 0.072314225)]\n"
     ]
    },
    {
     "data": {
      "image/png": "[encoded data removed]",
      "text/plain": [
       "<Figure size 432x288 with 1 Axes>"
      ]
     },
     "metadata": {
      "needs_background": "light"
     },
     "output_type": "display_data"
    }
   ],
   "source": [
    "img_path = r'./datasets/train/8323df4b0689d343.jpg'\n",
    "img = image.load_img(img_path, target_size= (224,224))\n",
    "testimg = cv2.cvtColor(cv2.imread(img_path), cv2.COLOR_BGR2RGB)\n",
    "plt.imshow(testimg)\n",
    "x = image.img_to_array(img)\n",
    "x = np.expand_dims(x, axis = 0)\n",
    "x = preprocess_input(x)\n",
    "\n",
    "preds = model.predict(x)\n",
    "print ('Predicted:', decode_predictions(preds, top = 3)[0])"
   ]
  },
  {
   "cell_type": "markdown",
   "metadata": {},
   "source": [
    "### Image i/o and image data augmentaition"
   ]
  },
  {
   "cell_type": "code",
   "execution_count": 11,
   "metadata": {
    "collapsed": true
   },
   "outputs": [],
   "source": [
    "def load_images(info, input_shape = input_shape):\n",
    "    input_shape = tuple(input_shape)\n",
    "    imgs = np.zeros((len(info), input_shape[0], input_shape[1], 3))\n",
    "\n",
    "    for i in range(len(info)):\n",
    "        fname = info.iloc[i]['filename']\n",
    "        try:\n",
    "            img = cv2.cvtColor(\n",
    "                  cv2.resize(cv2.imread(fname),input_shape),\n",
    "                  cv2.COLOR_BGR2RGB)\n",
    "        except:\n",
    "            warnings.warn('Warning: could not read image: '+ fname +\n",
    "                          '. Use black img instead.')\n",
    "            img = np.zeros((input_shape[0], input_shape[1], 3))\n",
    "        imgs[i,:,:,:] = img\n",
    "    \n",
    "    return imgs"
   ]
  },
  {
   "cell_type": "code",
   "execution_count": 12,
   "metadata": {
    "collapsed": true
   },
   "outputs": [],
   "source": [
    "def load_cropped_images(info, crop_p=0.2, crop='random'):\n",
    "    new_res = np.array([int(input_shape[0]*(1+crop_p)), int(input_shape[1]*(1+crop_p))])\n",
    "    if crop == 'random':\n",
    "        cx0 = np.random.randint(new_res[0] - input_shape[0], size=len(info))\n",
    "        cy0 = np.random.randint(new_res[1] - input_shape[1], size=len(info))\n",
    "    else:\n",
    "        if crop == 'central':\n",
    "            cx0, cy0 = (new_res - input_shape) // 2                \n",
    "        if crop == 'upper left':\n",
    "            cx0, cy0 = 0, 0\n",
    "        if crop == 'upper right':\n",
    "            cx0, cy0 = new_res[1] - input_shape[1], 0\n",
    "        if crop == 'lower left':\n",
    "            cx0, cy0 = 0, new_res[0] - input_shape[0]\n",
    "        if crop=='lower right':\n",
    "            cx0, cy0 = new_res - input_shape        \n",
    "        cx0 = np.repeat(np.expand_dims(cx0, 0), len(info))\n",
    "        cy0 = np.repeat(np.expand_dims(cy0, 0), len(info))\n",
    "\n",
    "    cx1 = cx0 + input_shape[0]\n",
    "    cy1 = cy0 + input_shape[1]\n",
    "    \n",
    "    raw_imgs = load_images(info, input_shape=tuple(new_res))\n",
    "    \n",
    "    cropped_imgs = np.zeros((len(info), input_shape[0], input_shape[1], 3))\n",
    "    for ind in range(len(info)):\n",
    "        cropped_imgs[ind,:,:,:] = raw_imgs[ind,\n",
    "                                           cy0[ind]:cy1[ind],\n",
    "                                           cx0[ind]:cx1[ind], :]\n",
    "    \n",
    "    return cropped_imgs"
   ]
  },
  {
   "cell_type": "code",
   "execution_count": 13,
   "metadata": {
    "collapsed": true
   },
   "outputs": [],
   "source": [
    "def get_image_gen(info_arg, \n",
    "                  shuffle=True, \n",
    "                  image_aug=True, \n",
    "                  eq_dist=False, \n",
    "                  n_ref_imgs=16, \n",
    "                  crop_prob=0.5, \n",
    "                  crop_p=0.5,\n",
    "                 batch_size = 256):\n",
    "    if image_aug:\n",
    "        datagen = ImageDataGenerator(\n",
    "            rotation_range=4.,\n",
    "            width_shift_range=0.2,\n",
    "            height_shift_range=0.2,\n",
    "            shear_range=0.2,\n",
    "            zoom_range=0.5,\n",
    "            channel_shift_range=25,\n",
    "            horizontal_flip=True,\n",
    "            fill_mode='nearest')\n",
    "        \n",
    "        if crop_prob > 0:\n",
    "            datagen_crop = ImageDataGenerator(\n",
    "                rotation_range=4.,\n",
    "                shear_range=0.2,\n",
    "                zoom_range=0.1,\n",
    "                channel_shift_range=20,\n",
    "                horizontal_flip=True,\n",
    "                fill_mode='nearest')\n",
    "        \n",
    "    count = len(info_arg)\n",
    "    while True:\n",
    "        if eq_dist:\n",
    "            def sample(df):\n",
    "                return df.sample(min(n_ref_imgs, len(df)))\n",
    "            info = info_arg.groupby('landmark_id', group_keys=False).apply(sample)\n",
    "        else:\n",
    "            info = info_arg\n",
    "        print('Generate', len(info), 'for the next round.')\n",
    "        \n",
    "        #shuffle data\n",
    "        if shuffle and count >= len(info):\n",
    "            info = info.sample(frac=1)\n",
    "            count = 0\n",
    "            \n",
    "        # load images\n",
    "        for ind in range(0,len(info), batch_size):\n",
    "            count += batch_size\n",
    "\n",
    "            y = info['landmark_id'].values[ind:(ind+batch_size)]\n",
    "            \n",
    "            if np.random.rand() < crop_prob:\n",
    "                imgs = load_cropped_images(info.iloc[ind:(ind+batch_size)], \n",
    "                                           crop_p=crop_p*np.random.rand() + 0.01, \n",
    "                                           crop='random')\n",
    "                if image_aug:\n",
    "                    cflow = datagen_crop.flow(imgs, \n",
    "                                              y, \n",
    "                                              batch_size=imgs.shape[0], \n",
    "                                              shuffle=False)\n",
    "                    imgs, y = next(cflow)                    \n",
    "            else:\n",
    "                imgs = load_images(info.iloc[ind:(ind+batch_size)])\n",
    "                if image_aug:\n",
    "                    cflow = datagen.flow(imgs, \n",
    "                                       y, \n",
    "                                       batch_size=imgs.shape[0], \n",
    "                                       shuffle=False)\n",
    "                    imgs, y = next(cflow)             \n",
    "\n",
    "            imgs = preprocess_input(imgs)\n",
    "    \n",
    "            y_l = label_encoder.transform(y[y>=0.])        \n",
    "            y_oh = np.zeros((len(y), n_cat))\n",
    "            y_oh[y >= 0., :] = one_hot_encoder.transform(y_l.reshape(-1,1)).todense()\n",
    "                    \n",
    "            yield imgs, y_oh"
   ]
  },
  {
   "cell_type": "code",
   "execution_count": null,
   "metadata": {
    "collapsed": true
   },
   "outputs": [],
   "source": []
  },
  {
   "cell_type": "code",
   "execution_count": 14,
   "metadata": {
    "collapsed": true
   },
   "outputs": [],
   "source": [
    "train_gen = get_image_gen(train_info , \n",
    "                          image_aug = True,\n",
    "                          eq_dist=False, \n",
    "                          n_ref_imgs=50, \n",
    "                          crop_prob=0, \n",
    "                          crop_p=0,\n",
    "                          batch_size = batch_size)"
   ]
  },
  {
   "cell_type": "code",
   "execution_count": 15,
   "metadata": {
    "collapsed": false
   },
   "outputs": [
    {
     "name": "stdout",
     "output_type": "stream",
     "text": [
      "Generate 932274 for the next round.\n"
     ]
    },
    {
     "name": "stderr",
     "output_type": "stream",
     "text": [
      "/opt/anaconda3/lib/python3.7/site-packages/numpy/matrixlib/defmatrix.py:71: PendingDeprecationWarning: the matrix subclass is not the recommended way to represent matrices or deal with linear algebra (see https://docs.scipy.org/doc/numpy/user/numpy-for-matlab-users.html). Please adjust your code to use regular ndarray.\n",
      "  return matrix(data, dtype=dtype, copy=False)\n"
     ]
    }
   ],
   "source": [
    "X_example, y_example = next(train_gen)\n",
    "#plt.imshow(X_example[1,:,:,:]/2. + 0.5)\n",
    "#plt.imshow(tt)"
   ]
  },
  {
   "cell_type": "code",
   "execution_count": 16,
   "metadata": {
    "collapsed": true
   },
   "outputs": [],
   "source": [
    "validation_gen = get_image_gen(dev_info, \n",
    "                          image_aug = False,\n",
    "                          eq_dist=False, \n",
    "                          crop_prob=0, \n",
    "                          crop_p=0,\n",
    "                          batch_size = batch_size)"
   ]
  },
  {
   "cell_type": "code",
   "execution_count": 17,
   "metadata": {
    "collapsed": false
   },
   "outputs": [
    {
     "data": {
      "text/plain": [
       "array([[0., 0., 0., ..., 0., 0., 0.],\n",
       "       [0., 0., 0., ..., 0., 0., 0.],\n",
       "       [0., 0., 0., ..., 0., 0., 0.],\n",
       "       ...,\n",
       "       [0., 0., 0., ..., 0., 0., 0.],\n",
       "       [0., 0., 0., ..., 0., 0., 0.],\n",
       "       [0., 0., 0., ..., 0., 0., 0.]])"
      ]
     },
     "execution_count": 17,
     "metadata": {},
     "output_type": "execute_result"
    }
   ],
   "source": [
    "y_example"
   ]
  },
  {
   "cell_type": "markdown",
   "metadata": {},
   "source": [
    "### The model"
   ]
  },
  {
   "cell_type": "code",
   "execution_count": 18,
   "metadata": {
    "collapsed": true
   },
   "outputs": [],
   "source": [
    "\n",
    "def batch_GAP(y_t, y_p):\n",
    "    pred_cat = tf.argmax(y_p, axis=-1)    \n",
    "    y_t_cat = tf.argmax(y_t, axis=-1) * tf.cast(\n",
    "        tf.reduce_sum(y_t, axis=-1), tf.int64)\n",
    "    \n",
    "    n_pred = tf.shape(pred_cat)[0]\n",
    "    is_c = tf.cast(tf.equal(pred_cat, y_t_cat), tf.float32)\n",
    "\n",
    "    GAP = tf.reduce_mean(\n",
    "          tf.cumsum(is_c) * is_c / tf.cast(\n",
    "              tf.range(1, n_pred + 1), \n",
    "              dtype=tf.float32))\n",
    "    \n",
    "    return GAP"
   ]
  },
  {
   "cell_type": "code",
   "execution_count": null,
   "metadata": {
    "collapsed": true
   },
   "outputs": [],
   "source": [
    "K.clear_session()"
   ]
  },
  {
   "cell_type": "code",
   "execution_count": null,
   "metadata": {
    "collapsed": true
   },
   "outputs": [],
   "source": [
    "base_model = VGG16(include_top=False, weights='imagenet', input_shape=list(input_shape) + [3])\n",
    "top_model = Sequential()\n",
    "top_model.add(Flatten(input_shape=base_model.output_shape[1:]))\n",
    "top_model.add(Dense(256, activation='relu'))\n",
    "top_model.add(Dense(256, activation='relu'))\n",
    "top_model.add(Dense(n_cat, activation='softmax'))"
   ]
  },
  {
   "cell_type": "code",
   "execution_count": null,
   "metadata": {
    "collapsed": false
   },
   "outputs": [
    {
     "name": "stdout",
     "output_type": "stream",
     "text": [
      "Model: \"model\"\n",
      "_________________________________________________________________\n",
      "Layer (type)                 Output Shape              Param #   \n",
      "=================================================================\n",
      "input_1 (InputLayer)         [(None, 150, 150, 3)]     0         \n",
      "_________________________________________________________________\n",
      "block1_conv1 (Conv2D)        (None, 150, 150, 64)      1792      \n",
      "_________________________________________________________________\n",
      "block1_conv2 (Conv2D)        (None, 150, 150, 64)      36928     \n",
      "_________________________________________________________________\n",
      "block1_pool (MaxPooling2D)   (None, 75, 75, 64)        0         \n",
      "_________________________________________________________________\n",
      "block2_conv1 (Conv2D)        (None, 75, 75, 128)       73856     \n",
      "_________________________________________________________________\n",
      "block2_conv2 (Conv2D)        (None, 75, 75, 128)       147584    \n",
      "_________________________________________________________________\n",
      "block2_pool (MaxPooling2D)   (None, 37, 37, 128)       0         \n",
      "_________________________________________________________________\n",
      "block3_conv1 (Conv2D)        (None, 37, 37, 256)       295168    \n",
      "_________________________________________________________________\n",
      "block3_conv2 (Conv2D)        (None, 37, 37, 256)       590080    \n",
      "_________________________________________________________________\n",
      "block3_conv3 (Conv2D)        (None, 37, 37, 256)       590080    \n",
      "_________________________________________________________________\n",
      "block3_pool (MaxPooling2D)   (None, 18, 18, 256)       0         \n",
      "_________________________________________________________________\n",
      "block4_conv1 (Conv2D)        (None, 18, 18, 512)       1180160   \n",
      "_________________________________________________________________\n",
      "block4_conv2 (Conv2D)        (None, 18, 18, 512)       2359808   \n",
      "_________________________________________________________________\n",
      "block4_conv3 (Conv2D)        (None, 18, 18, 512)       2359808   \n",
      "_________________________________________________________________\n",
      "block4_pool (MaxPooling2D)   (None, 9, 9, 512)         0         \n",
      "_________________________________________________________________\n",
      "block5_conv1 (Conv2D)        (None, 9, 9, 512)         2359808   \n",
      "_________________________________________________________________\n",
      "block5_conv2 (Conv2D)        (None, 9, 9, 512)         2359808   \n",
      "_________________________________________________________________\n",
      "block5_conv3 (Conv2D)        (None, 9, 9, 512)         2359808   \n",
      "_________________________________________________________________\n",
      "block5_pool (MaxPooling2D)   (None, 4, 4, 512)         0         \n",
      "_________________________________________________________________\n",
      "sequential (Sequential)      (None, 6401)              3808257   \n",
      "=================================================================\n",
      "Total params: 18,522,945\n",
      "Trainable params: 18,522,945\n",
      "Non-trainable params: 0\n",
      "_________________________________________________________________\n"
     ]
    }
   ],
   "source": [
    "model = Model(inputs= base_model.input, outputs= top_model(base_model.output))\n",
    "model.summary()"
   ]
  },
  {
   "cell_type": "code",
   "execution_count": null,
   "metadata": {
    "collapsed": false
   },
   "outputs": [
    {
     "name": "stdout",
     "output_type": "stream",
     "text": [
      "Compilation done.\n",
      "Model: \"model\"\n",
      "_________________________________________________________________\n",
      "Layer (type)                 Output Shape              Param #   \n",
      "=================================================================\n",
      "input_1 (InputLayer)         [(None, 150, 150, 3)]     0         \n",
      "_________________________________________________________________\n",
      "block1_conv1 (Conv2D)        (None, 150, 150, 64)      1792      \n",
      "_________________________________________________________________\n",
      "block1_conv2 (Conv2D)        (None, 150, 150, 64)      36928     \n",
      "_________________________________________________________________\n",
      "block1_pool (MaxPooling2D)   (None, 75, 75, 64)        0         \n",
      "_________________________________________________________________\n",
      "block2_conv1 (Conv2D)        (None, 75, 75, 128)       73856     \n",
      "_________________________________________________________________\n",
      "block2_conv2 (Conv2D)        (None, 75, 75, 128)       147584    \n",
      "_________________________________________________________________\n",
      "block2_pool (MaxPooling2D)   (None, 37, 37, 128)       0         \n",
      "_________________________________________________________________\n",
      "block3_conv1 (Conv2D)        (None, 37, 37, 256)       295168    \n",
      "_________________________________________________________________\n",
      "block3_conv2 (Conv2D)        (None, 37, 37, 256)       590080    \n",
      "_________________________________________________________________\n",
      "block3_conv3 (Conv2D)        (None, 37, 37, 256)       590080    \n",
      "_________________________________________________________________\n",
      "block3_pool (MaxPooling2D)   (None, 18, 18, 256)       0         \n",
      "_________________________________________________________________\n",
      "block4_conv1 (Conv2D)        (None, 18, 18, 512)       1180160   \n",
      "_________________________________________________________________\n",
      "block4_conv2 (Conv2D)        (None, 18, 18, 512)       2359808   \n",
      "_________________________________________________________________\n",
      "block4_conv3 (Conv2D)        (None, 18, 18, 512)       2359808   \n",
      "_________________________________________________________________\n",
      "block4_pool (MaxPooling2D)   (None, 9, 9, 512)         0         \n",
      "_________________________________________________________________\n",
      "block5_conv1 (Conv2D)        (None, 9, 9, 512)         2359808   \n",
      "_________________________________________________________________\n",
      "block5_conv2 (Conv2D)        (None, 9, 9, 512)         2359808   \n",
      "_________________________________________________________________\n",
      "block5_conv3 (Conv2D)        (None, 9, 9, 512)         2359808   \n",
      "_________________________________________________________________\n",
      "block5_pool (MaxPooling2D)   (None, 4, 4, 512)         0         \n",
      "_________________________________________________________________\n",
      "sequential (Sequential)      (None, 6401)              3808257   \n",
      "=================================================================\n",
      "Total params: 18,522,945\n",
      "Trainable params: 8,527,873\n",
      "Non-trainable params: 9,995,072\n",
      "_________________________________________________________________\n"
     ]
    }
   ],
   "source": [
    "for layer in model.layers[:16]:    \n",
    "    if mini_dataset_flag: \n",
    "        layer.trainable = False\n",
    "    else: \n",
    "        layer.trainable = False\n",
    "# compile the model with a SGD/momentum optimizer and a very slow learning rate.\n",
    "model.compile(loss='categorical_crossentropy',\n",
    "                  optimizer=Adam(lr=0.0005),\n",
    "                  metrics=['accuracy', batch_GAP])\n",
    "print ('Compilation done.')\n",
    "model.summary()"
   ]
  },
  {
   "cell_type": "code",
   "execution_count": null,
   "metadata": {
    "collapsed": true
   },
   "outputs": [],
   "source": [
    "weights_path = './top-vgg16-model-weights.hdf5'\n",
    "model.load_weights(weights_path)"
   ]
  },
  {
   "cell_type": "code",
   "execution_count": null,
   "metadata": {
    "collapsed": true
   },
   "outputs": [],
   "source": [
    "checkpoint = ModelCheckpoint(top_model_weights_path, monitor='val_accuracy', verbose=1, save_best_only=True, save_weights_only=True)\n",
    "callbacks_list = [checkpoint]\n",
    "np.warnings.filterwarnings('ignore')"
   ]
  },
  {
   "cell_type": "code",
   "execution_count": null,
   "metadata": {
    "collapsed": false
   },
   "outputs": [
    {
     "name": "stdout",
     "output_type": "stream",
     "text": [
      "Epoch 1/30\n",
      "7282/7283 [============================>.] - ETA: 0s - loss: 6.7167 - accuracy: 0.0410 - batch_GAP: 0.0047Generate 233026 for the next round.\n",
      "\n",
      "Epoch 00001: val_accuracy improved from -inf to 0.04420, saving model to top-vgg16-model-weights.hdf5\n",
      "7283/7283 [==============================] - 4006s 550ms/step - loss: 6.7167 - accuracy: 0.0410 - batch_GAP: 0.0047 - val_loss: 6.7301 - val_accuracy: 0.0442 - val_batch_GAP: 0.0052\n",
      "Epoch 2/30\n",
      "7282/7283 [============================>.] - ETA: 0s - loss: 6.8458 - accuracy: 0.0349 - batch_GAP: 0.0037Generate 932274 for the next round.\n",
      "\n",
      "Epoch 00002: val_accuracy improved from 0.04420 to 0.04456, saving model to top-vgg16-model-weights.hdf5\n",
      "7283/7283 [==============================] - 3915s 538ms/step - loss: 6.8458 - accuracy: 0.0349 - batch_GAP: 0.0037 - val_loss: 6.7377 - val_accuracy: 0.0446 - val_batch_GAP: 0.0051\n",
      "Epoch 3/30\n",
      "7282/7283 [============================>.] - ETA: 0s - loss: 6.7430 - accuracy: 0.0371 - batch_GAP: 0.0040\n",
      "Epoch 00003: val_accuracy improved from 0.04456 to 0.04700, saving model to top-vgg16-model-weights.hdf5\n",
      "7283/7283 [==============================] - 3525s 484ms/step - loss: 6.7430 - accuracy: 0.0371 - batch_GAP: 0.0040 - val_loss: 6.6695 - val_accuracy: 0.0470 - val_batch_GAP: 0.0055\n",
      "Epoch 4/30\n",
      "7282/7283 [============================>.] - ETA: 0s - loss: 6.7593 - accuracy: 0.0368 - batch_GAP: 0.0040Generate 932274 for the next round.\n",
      "Generate 233026 for the next round.\n",
      "\n",
      "Epoch 00004: val_accuracy did not improve from 0.04700\n",
      "7283/7283 [==============================] - 3580s 492ms/step - loss: 6.7593 - accuracy: 0.0367 - batch_GAP: 0.0040 - val_loss: 6.6391 - val_accuracy: 0.0437 - val_batch_GAP: 0.0049\n",
      "Epoch 5/30\n",
      "7282/7283 [============================>.] - ETA: 0s - loss: 6.6947 - accuracy: 0.0386 - batch_GAP: 0.0043\n",
      "Epoch 00005: val_accuracy did not improve from 0.04700\n",
      "7283/7283 [==============================] - 3554s 488ms/step - loss: 6.6947 - accuracy: 0.0386 - batch_GAP: 0.0043 - val_loss: 6.6202 - val_accuracy: 0.0454 - val_batch_GAP: 0.0050\n",
      "Epoch 6/30\n",
      "7282/7283 [============================>.] - ETA: 0s - loss: 6.7097 - accuracy: 0.0383 - batch_GAP: 0.0043Generate 932274 for the next round.\n",
      "\n",
      "Epoch 00006: val_accuracy improved from 0.04700 to 0.04730, saving model to top-vgg16-model-weights.hdf5\n",
      "7283/7283 [==============================] - 3770s 518ms/step - loss: 6.7098 - accuracy: 0.0383 - batch_GAP: 0.0043 - val_loss: 6.6204 - val_accuracy: 0.0473 - val_batch_GAP: 0.0056\n",
      "Epoch 7/30\n",
      "7282/7283 [============================>.] - ETA: 0s - loss: 6.6559 - accuracy: 0.0394 - batch_GAP: 0.0043\n",
      "Epoch 00007: val_accuracy did not improve from 0.04730\n",
      "7283/7283 [==============================] - 3785s 520ms/step - loss: 6.6559 - accuracy: 0.0394 - batch_GAP: 0.0043 - val_loss: 6.6128 - val_accuracy: 0.0464 - val_batch_GAP: 0.0053\n",
      "Epoch 8/30\n",
      "7282/7283 [============================>.] - ETA: 0s - loss: 6.6728 - accuracy: 0.0397 - batch_GAP: 0.0044Generate 932274 for the next round.\n",
      "Generate 233026 for the next round.\n",
      "\n",
      "Epoch 00008: val_accuracy improved from 0.04730 to 0.04826, saving model to top-vgg16-model-weights.hdf5\n",
      "7283/7283 [==============================] - 3840s 527ms/step - loss: 6.6728 - accuracy: 0.0397 - batch_GAP: 0.0044 - val_loss: 6.6520 - val_accuracy: 0.0483 - val_batch_GAP: 0.0060\n",
      "Epoch 9/30\n",
      "7282/7283 [============================>.] - ETA: 0s - loss: 6.6332 - accuracy: 0.0401 - batch_GAP: 0.0044\n",
      "Epoch 00009: val_accuracy did not improve from 0.04826\n",
      "7283/7283 [==============================] - 3749s 515ms/step - loss: 6.6333 - accuracy: 0.0401 - batch_GAP: 0.0044 - val_loss: 6.5989 - val_accuracy: 0.0477 - val_batch_GAP: 0.0057\n",
      "Epoch 10/30\n",
      "7282/7283 [============================>.] - ETA: 0s - loss: 6.6544 - accuracy: 0.0406 - batch_GAP: 0.0045Generate 932274 for the next round.\n",
      "\n",
      "Epoch 00010: val_accuracy improved from 0.04826 to 0.04943, saving model to top-vgg16-model-weights.hdf5\n",
      "7283/7283 [==============================] - 3786s 520ms/step - loss: 6.6544 - accuracy: 0.0406 - batch_GAP: 0.0045 - val_loss: 6.5738 - val_accuracy: 0.0494 - val_batch_GAP: 0.0062\n",
      "Epoch 11/30\n",
      "7282/7283 [============================>.] - ETA: 0s - loss: 6.6196 - accuracy: 0.0416 - batch_GAP: 0.0048\n",
      "Epoch 00011: val_accuracy improved from 0.04943 to 0.04998, saving model to top-vgg16-model-weights.hdf5\n",
      "7283/7283 [==============================] - 3728s 512ms/step - loss: 6.6196 - accuracy: 0.0416 - batch_GAP: 0.0048 - val_loss: 6.5049 - val_accuracy: 0.0500 - val_batch_GAP: 0.0059\n",
      "Epoch 12/30\n",
      "7282/7283 [============================>.] - ETA: 0s - loss: 6.6469 - accuracy: 0.0404 - batch_GAP: 0.0045Generate 932274 for the next round.\n",
      "Generate 233026 for the next round.\n",
      "\n",
      "Epoch 00012: val_accuracy did not improve from 0.04998\n",
      "7283/7283 [==============================] - 3820s 525ms/step - loss: 6.6468 - accuracy: 0.0404 - batch_GAP: 0.0045 - val_loss: 6.5377 - val_accuracy: 0.0485 - val_batch_GAP: 0.0064\n",
      "Epoch 13/30\n",
      "7282/7283 [============================>.] - ETA: 0s - loss: 6.6168 - accuracy: 0.0417 - batch_GAP: 0.0047\n",
      "Epoch 00013: val_accuracy did not improve from 0.04998\n",
      "7283/7283 [==============================] - 3751s 515ms/step - loss: 6.6168 - accuracy: 0.0417 - batch_GAP: 0.0047 - val_loss: 6.6123 - val_accuracy: 0.0490 - val_batch_GAP: 0.0055\n",
      "Epoch 14/30\n",
      "7282/7283 [============================>.] - ETA: 0s - loss: 6.6322 - accuracy: 0.0420 - batch_GAP: 0.0047Generate 932274 for the next round.\n",
      "\n",
      "Epoch 00014: val_accuracy did not improve from 0.04998\n",
      "7283/7283 [==============================] - 3776s 518ms/step - loss: 6.6322 - accuracy: 0.0420 - batch_GAP: 0.0047 - val_loss: 6.5881 - val_accuracy: 0.0476 - val_batch_GAP: 0.0055\n",
      "Epoch 15/30\n",
      "7282/7283 [============================>.] - ETA: 0s - loss: 6.6027 - accuracy: 0.0426 - batch_GAP: 0.0049\n",
      "Epoch 00015: val_accuracy improved from 0.04998 to 0.05087, saving model to top-vgg16-model-weights.hdf5\n",
      "7283/7283 [==============================] - 3818s 524ms/step - loss: 6.6027 - accuracy: 0.0426 - batch_GAP: 0.0049 - val_loss: 6.5144 - val_accuracy: 0.0509 - val_batch_GAP: 0.0059\n",
      "Epoch 16/30\n",
      "7282/7283 [============================>.] - ETA: 0s - loss: 6.6187 - accuracy: 0.0420 - batch_GAP: 0.0048Generate 932274 for the next round.\n",
      "Generate 233026 for the next round.\n",
      "\n",
      "Epoch 00016: val_accuracy did not improve from 0.05087\n",
      "7283/7283 [==============================] - 3824s 525ms/step - loss: 6.6187 - accuracy: 0.0420 - batch_GAP: 0.0048 - val_loss: 6.5557 - val_accuracy: 0.0466 - val_batch_GAP: 0.0054\n",
      "Epoch 17/30\n",
      "7282/7283 [============================>.] - ETA: 0s - loss: 6.5944 - accuracy: 0.0429 - batch_GAP: 0.0049\n",
      "Epoch 00017: val_accuracy improved from 0.05087 to 0.05192, saving model to top-vgg16-model-weights.hdf5\n",
      "7283/7283 [==============================] - 3790s 520ms/step - loss: 6.5943 - accuracy: 0.0429 - batch_GAP: 0.0049 - val_loss: 6.5155 - val_accuracy: 0.0519 - val_batch_GAP: 0.0063\n",
      "Epoch 18/30\n",
      "7282/7283 [============================>.] - ETA: 0s - loss: 6.6100 - accuracy: 0.0429 - batch_GAP: 0.0049Generate 932274 for the next round.\n",
      "\n",
      "Epoch 00018: val_accuracy did not improve from 0.05192\n",
      "7283/7283 [==============================] - 3622s 497ms/step - loss: 6.6100 - accuracy: 0.0429 - batch_GAP: 0.0049 - val_loss: 6.5295 - val_accuracy: 0.0510 - val_batch_GAP: 0.0063\n",
      "Epoch 19/30\n",
      "7282/7283 [============================>.] - ETA: 0s - loss: 6.5716 - accuracy: 0.0438 - batch_GAP: 0.0050\n",
      "Epoch 00019: val_accuracy improved from 0.05192 to 0.05271, saving model to top-vgg16-model-weights.hdf5\n",
      "7283/7283 [==============================] - 3589s 493ms/step - loss: 6.5716 - accuracy: 0.0438 - batch_GAP: 0.0050 - val_loss: 6.4704 - val_accuracy: 0.0527 - val_batch_GAP: 0.0067\n",
      "Epoch 20/30\n",
      "7282/7283 [============================>.] - ETA: 0s - loss: 6.6011 - accuracy: 0.0435 - batch_GAP: 0.0050Generate 932274 for the next round.\n",
      "Generate 233026 for the next round.\n",
      "\n",
      "Epoch 00020: val_accuracy did not improve from 0.05271\n",
      "7283/7283 [==============================] - 3668s 504ms/step - loss: 6.6011 - accuracy: 0.0435 - batch_GAP: 0.0050 - val_loss: 6.5667 - val_accuracy: 0.0501 - val_batch_GAP: 0.0059\n",
      "Epoch 21/30\n",
      "7282/7283 [============================>.] - ETA: 0s - loss: 6.5828 - accuracy: 0.0442 - batch_GAP: 0.0051\n",
      "Epoch 00021: val_accuracy did not improve from 0.05271\n",
      "7283/7283 [==============================] - 3619s 497ms/step - loss: 6.5828 - accuracy: 0.0442 - batch_GAP: 0.0051 - val_loss: 6.5541 - val_accuracy: 0.0502 - val_batch_GAP: 0.0061\n",
      "Epoch 22/30\n",
      "7282/7283 [============================>.] - ETA: 0s - loss: 6.5833 - accuracy: 0.0441 - batch_GAP: 0.0050Generate 932274 for the next round.\n",
      "\n",
      "Epoch 00022: val_accuracy did not improve from 0.05271\n",
      "7283/7283 [==============================] - 3677s 505ms/step - loss: 6.5833 - accuracy: 0.0441 - batch_GAP: 0.0050 - val_loss: 6.5022 - val_accuracy: 0.0515 - val_batch_GAP: 0.0061\n",
      "Epoch 23/30\n",
      "7282/7283 [============================>.] - ETA: 0s - loss: 6.5628 - accuracy: 0.0452 - batch_GAP: 0.0053\n",
      "Epoch 00023: val_accuracy improved from 0.05271 to 0.05468, saving model to top-vgg16-model-weights.hdf5\n",
      "7283/7283 [==============================] - 3643s 500ms/step - loss: 6.5628 - accuracy: 0.0452 - batch_GAP: 0.0053 - val_loss: 6.5198 - val_accuracy: 0.0547 - val_batch_GAP: 0.0069\n",
      "Epoch 24/30\n",
      "7282/7283 [============================>.] - ETA: 0s - loss: 6.5850 - accuracy: 0.0443 - batch_GAP: 0.0050Generate 233026 for the next round.\n",
      "\n",
      "Epoch 00024: val_accuracy did not improve from 0.05468\n",
      "7283/7283 [==============================] - 3728s 512ms/step - loss: 6.5850 - accuracy: 0.0443 - batch_GAP: 0.0050 - val_loss: 6.5614 - val_accuracy: 0.0529 - val_batch_GAP: 0.0066\n",
      "Epoch 25/30\n",
      "Generate 932274 for the next round.\n",
      "7282/7283 [============================>.] - ETA: 0s - loss: 6.5636 - accuracy: 0.0456 - batch_GAP: 0.0052\n",
      "Epoch 00025: val_accuracy did not improve from 0.05468\n",
      "7283/7283 [==============================] - 3679s 505ms/step - loss: 6.5636 - accuracy: 0.0456 - batch_GAP: 0.0052 - val_loss: 6.4757 - val_accuracy: 0.0508 - val_batch_GAP: 0.0061\n",
      "Epoch 26/30\n",
      "7282/7283 [============================>.] - ETA: 0s - loss: 6.5741 - accuracy: 0.0449 - batch_GAP: 0.0052\n",
      "Epoch 00026: val_accuracy did not improve from 0.05468\n",
      "7283/7283 [==============================] - 3727s 512ms/step - loss: 6.5741 - accuracy: 0.0449 - batch_GAP: 0.0052 - val_loss: 6.5698 - val_accuracy: 0.0507 - val_batch_GAP: 0.0059\n",
      "Epoch 27/30\n",
      "   1/7283 [..............................] - ETA: 36:52 - loss: 6.2374 - accuracy: 0.0156 - batch_GAP: 0.0014Generate 932274 for the next round.\n",
      "7282/7283 [============================>.] - ETA: 0s - loss: 6.5506 - accuracy: 0.0458 - batch_GAP: 0.0053\n",
      "Epoch 00027: val_accuracy did not improve from 0.05468\n",
      "7283/7283 [==============================] - 3725s 512ms/step - loss: 6.5505 - accuracy: 0.0458 - batch_GAP: 0.0053 - val_loss: 6.4967 - val_accuracy: 0.0532 - val_batch_GAP: 0.0067\n",
      "Epoch 28/30\n",
      "3668/7283 [==============>...............] - ETA: 28:21 - loss: 6.5565 - accuracy: 0.0455 - batch_GAP: 0.0053"
     ]
    }
   ],
   "source": [
    "model.fit_generator(train_gen, \n",
    "                    steps_per_epoch=len(train_info) // batch_size/2, \n",
    "                    epochs=30, \n",
    "                    validation_data=validation_gen,\n",
    "                    validation_steps=len(dev_info) // batch_size/4,\n",
    "                    callbacks=callbacks_list,\n",
    "                   use_multiprocessing=False)"
   ]
  },
  {
   "cell_type": "code",
   "execution_count": null,
   "metadata": {
    "collapsed": true
   },
   "outputs": [],
   "source": [
    "plt.plot(model.history.history['loss'])\n",
    "plt.plot(model.history.history['val_loss'])\n",
    "plt.legend(['train loss', 'val loss'])\n",
    "plt.xlabel('epoch')\n",
    "plt.ylabel('loss')"
   ]
  }
 ],
 "metadata": {
  "kernelspec": {
   "display_name": "Python [Root]",
   "language": "python",
   "name": "Python [Root]"
  },
  "language_info": {
   "codemirror_mode": {
    "name": "ipython",
    "version": 3
   },
   "file_extension": ".py",
   "mimetype": "text/x-python",
   "name": "python",
   "nbconvert_exporter": "python",
   "pygments_lexer": "ipython3",
   "version": "3.5.2"
  }
 },
 "nbformat": 4,
 "nbformat_minor": 2
}
